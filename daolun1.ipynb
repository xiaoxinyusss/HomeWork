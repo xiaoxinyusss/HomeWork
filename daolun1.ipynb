{
 "cells": [
  {
   "cell_type": "code",
   "execution_count": 2,
   "id": "811959db",
   "metadata": {},
   "outputs": [
    {
     "data": {
      "text/plain": [
       "'hello'"
      ]
     },
     "execution_count": 2,
     "metadata": {},
     "output_type": "execute_result"
    }
   ],
   "source": [
    "name=\"hello\"\n",
    "name"
   ]
  },
  {
   "cell_type": "markdown",
   "id": "2d674973-67a9-4342-9840-de55bffc390d",
   "metadata": {},
   "source": [
    "编写Python程序，打印\"数据科学与工程导论\"，并使用 print(chr(0x2605)) 语句将星星包围起来。\n",
    "写一个 Python 程序，输入 x, y, z 这三个数，将这三个数从小到大使用 print 函数打印出来。\n",
    "写一个 Python 程序，有 w, x, y, z 四个数，将这四个数从大到小使用 print 函数打印出来。\n",
    "写一个 Python 程序，输出 1-100 中的所有奇数。\n",
    "写一个 Python 程序，用 for 循环，求解 1 到 100 的和。\n",
    "写一个 Python 程序，分别用 for 和 while 循环实现对一个给定序列的倒排序输出。例如，给定 L=[1,2,3,4,5]，输出为 [5,4,3,2,1]。\n",
    "写一个 Python 程序，判断一个输入的字符串 S 是否包含由两个或两个以上连续出现的相同字符组成的字符串。例如，abccccda 中就包含 cccc 这个由 4 个连续字符组成的字符串。\n",
    "写一个 Python 程序，输入一个字符串 S，去掉其中所有的空格后输出。例如，“DataScience and Engineering”，去掉空格后为“DataScienceandEngineering”。\n",
    "请设计一个求 3 次方根的算法（不允许直接调用求方根的函数），并给出对应的 Python 程序。 采用牛顿迭代法求解，迭代过程数学公式表示为： \n",
    " \n",
    "写一个 Python 程序，给定一个常数 n（n>0），求 n 的阶乘，即 n!=1×2×...×(n-1)×n。例如，4!=24，5!=120。"
   ]
  },
  {
   "cell_type": "code",
   "execution_count": 2,
   "id": "c6e49d30-2978-428a-883f-9e2391102e6c",
   "metadata": {},
   "outputs": [
    {
     "name": "stdout",
     "output_type": "stream",
     "text": [
      "★\n"
     ]
    }
   ],
   "source": [
    "print(chr(0x2605))"
   ]
  },
  {
   "cell_type": "code",
   "execution_count": null,
   "id": "f6c73ac5-5c9d-48d5-82c2-60dcb18c1880",
   "metadata": {},
   "outputs": [],
   "source": []
  },
  {
   "cell_type": "code",
   "execution_count": 3,
   "id": "3cbd1d69-3cd9-4ba7-a995-6e00c7450429",
   "metadata": {},
   "outputs": [
    {
     "name": "stdout",
     "output_type": "stream",
     "text": [
      "★★★★★★★★★★★\n",
      "★数据科学与工程导论★\n",
      "★★★★★★★★★★★\n"
     ]
    }
   ],
   "source": [
    "star=chr(0x2605)\n",
    "print(star*11)\n",
    "print(f\"{star}数据科学与工程导论{star}\")\n",
    "print(star*11)"
   ]
  }
 ],
 "metadata": {
  "kernelspec": {
   "display_name": "Python 3 (ipykernel)",
   "language": "python",
   "name": "python3"
  },
  "language_info": {
   "codemirror_mode": {
    "name": "ipython",
    "version": 3
   },
   "file_extension": ".py",
   "mimetype": "text/x-python",
   "name": "python",
   "nbconvert_exporter": "python",
   "pygments_lexer": "ipython3",
   "version": "3.11.7"
  }
 },
 "nbformat": 4,
 "nbformat_minor": 5
}
