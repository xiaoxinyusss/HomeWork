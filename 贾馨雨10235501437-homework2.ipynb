{
 "cells": [
  {
   "cell_type": "code",
   "execution_count": 2,
   "id": "b04b6b9d-8bae-4c52-9f2f-79506f89c7de",
   "metadata": {},
   "outputs": [
    {
     "name": "stdout",
     "output_type": "stream",
     "text": [
      "10\n"
     ]
    }
   ],
   "source": [
    "#编写 Python 程序，求两个正整数的最大公约数。\n",
    "def zuidagongyueshu(a,b):\n",
    "    while b!=0:\n",
    "        a,b=b,a%b\n",
    "    return a\n",
    "a,b=10,5\n",
    "print(zuidagongyueshu(20,10))\n",
    "              \n",
    "        "
   ]
  },
  {
   "cell_type": "code",
   "execution_count": 4,
   "id": "208d6fe8-66fd-406b-94ea-4d3a65f8cfd3",
   "metadata": {},
   "outputs": [
    {
     "name": "stdout",
     "output_type": "stream",
     "text": [
      "良好\n"
     ]
    }
   ],
   "source": [
    "#2. 用if语句实现百分制转等级制（考试成绩，60分以下不合格，60—74分合格，75—89分为良好，90分以上为优秀）。\n",
    "def dengjizhi(x):\n",
    "    if x<60:\n",
    "        return \"不合格\"\n",
    "    elif x>=60 and x<=74:\n",
    "        return \"合格\"\n",
    "    elif x>=75 and x<=89:\n",
    "        return \"良好\"\n",
    "    else :\n",
    "        return \"优秀\"\n",
    "x=80\n",
    "print(dengjizhi(x))"
   ]
  },
  {
   "cell_type": "code",
   "execution_count": 12,
   "id": "9031708f-1926-412b-8b7f-beaeea946e51",
   "metadata": {},
   "outputs": [
    {
     "name": "stdout",
     "output_type": "stream",
     "text": [
      "0.625 的二进制小数: 0.101\n"
     ]
    }
   ],
   "source": [
    "#3. 编写Python程序，完成十到二进制小数的转换\n",
    "def zhuanhuan(a):\n",
    "    if a >= 1:\n",
    "        print(\"不能小于1.\")\n",
    "        return\n",
    "    \n",
    "    xiaoshu = \"\"\n",
    "    \n",
    "    while a > 0:\n",
    "        a *= 2\n",
    "        wei = int(a)\n",
    "        xiaoshu += str(wei)\n",
    "        a -= wei\n",
    "\n",
    "    return \"0.\" + xiaoshu\n",
    "\n",
    "shuru = 0.625\n",
    "erjinzhi = zhuanhuan(shuru)\n",
    "print(f\"{shuru} 的二进制小数: {erjinzhi}\")\n"
   ]
  },
  {
   "cell_type": "code",
   "execution_count": 13,
   "id": "5cc449a1-57d3-4504-a24f-b0fc94d1b8da",
   "metadata": {},
   "outputs": [
    {
     "name": "stdout",
     "output_type": "stream",
     "text": [
      "19.099997961555463\n"
     ]
    }
   ],
   "source": [
    "#4. 编写Python程序，产生10-20的随机浮点数\n",
    "import random\n",
    "def shengchengfudianshu():\n",
    "    return random.uniform(10,20)\n",
    "print(shengchengfudianshu())"
   ]
  },
  {
   "cell_type": "code",
   "execution_count": 15,
   "id": "453f0ab0-1048-43ef-b9f1-d88d4013a322",
   "metadata": {},
   "outputs": [
    {
     "name": "stdout",
     "output_type": "stream",
     "text": [
      "(True, 6)\n"
     ]
    }
   ],
   "source": [
    "#5. 编写一个Python函数，判断一个整数是否是回文数。回文数是指正序（从左向右）和倒序（从右向左）读都是一样的数。\n",
    "def huiwen(a):\n",
    "    if a < 0:  # 负数不是回文数\n",
    "        return False\n",
    "    # 计算位数\n",
    "    original = a\n",
    "    weishu = 0\n",
    "    while a > 0:\n",
    "        weishu += 1  \n",
    "        a = a / 10 \n",
    "    # 逐位对比\n",
    "    a = original  \n",
    "    is_huiwen = True  # 假设是回文数\n",
    "    for i in range(weishu // 2):  # 只需要检查一半的位数\n",
    "        left_digit = (original // (10 ** (weishu - 1 - i))) % 10  \n",
    "        right_digit = (original // (10 ** i)) % 10  \n",
    "        if left_digit != right_digit:\n",
    "            is_huiwen = False  \n",
    "            break  \n",
    "    return \" # 返回是否是回文数和位数\n",
    "\n",
    "a=123321\n",
    "print(huiwen(a))\n",
    "    "
   ]
  },
  {
   "cell_type": "code",
   "execution_count": 29,
   "id": "02c55795-5c1e-4c95-831a-75b752d327ff",
   "metadata": {},
   "outputs": [
    {
     "name": "stdout",
     "output_type": "stream",
     "text": [
      "0\n",
      "1\n",
      "1\n",
      "2\n",
      "3\n",
      "5\n",
      "8\n"
     ]
    }
   ],
   "source": [
    "#6.编写一个Python函数，返回一个包含斐波那契数列的前N个数的列表。斐波那契数列是一个数列，其中每个数是前两个数的和，数列以0和1开始。\n",
    "def feibonaqie ( N ):\n",
    "    fib=[0]*(N+2)\n",
    "    fib[0]=0\n",
    "    fib[1]=1\n",
    "    print(fib[0])\n",
    "    print(fib[1])\n",
    "    for i in range (2,N+2):\n",
    "      fib[i]=fib[i-1]+fib[i-2]\n",
    "      print(fib[i])\n",
    "N=5\n",
    "feibonaqie(N)"
   ]
  },
  {
   "cell_type": "code",
   "execution_count": 40,
   "id": "be3ee240-eed6-4f2b-9ca4-baa6c6ee1241",
   "metadata": {},
   "outputs": [
    {
     "name": "stdout",
     "output_type": "stream",
     "text": [
      "5\n"
     ]
    }
   ],
   "source": [
    "#7.编写一个Python函数，接受一个整数数组作为输入，返回数组中第二大的数。如果数组中只有一个元素或数组为空，则返回-1。\n",
    "def shuzu(a):\n",
    "    num=float('-inf')\n",
    "    if len(a)<2:\n",
    "        return -1\n",
    "    else :\n",
    "        for i in range (0,len(a)):\n",
    "          if (a[i]>num):\n",
    "            num=a[i]\n",
    "    return num\n",
    "a=[1,2,3,4,5]\n",
    "print(shuzu(a))"
   ]
  },
  {
   "cell_type": "markdown",
   "id": "ea1edb6a-4cb5-4533-ba4e-79f96e09729a",
   "metadata": {},
   "source": [
    "#8. 编写一个函数，使其能够用正则表达式的方式简单验证身份证号是否合法。\n",
    "validate_id_card函数使用正则表达式模式来匹配身份证号。模式通过以下方式验证身份证号的格式：\n",
    "\n",
    "第一位必须是1-9的数字，不以0开头。\n",
    "接下来5位是地区码。（开头6位都是地区码）\n",
    "紧接着6位是出生年份和月份。\n",
    "接下来2位是出生日。\n",
    "然后是3位顺序码（通常是随机数字）。\n",
    "最后一位可以是数字或大写字母X。\n",
    "^：表示匹配字符串的开头，确保正则表达式从字符串的开头开始匹配。\n",
    "\n",
    "[1-9]：表示第一位是数字，但不包括0。这是因为身份证号的第一位通常不是0。\n",
    "\n",
    "\\d{5}：表示接下来的5位是数字（0-9），共计6位，这部分用来表示地区编码。\n",
    "\n",
    "(19|20)：这是一个分组，用于匹配年份的前两位。身份证号通常使用19或20作为年份的前两位。\n",
    "\n",
    "\\d{2}：表示匹配年份的后两位，共计2位。\n",
    "\n",
    "(0[1-9]|1[0-2])：这是一个分组，用于匹配月份。月份的范围是01到12。这一部分可以匹配01到09月以及10到12月。\n",
    "\n",
    "(0[1-9]|[1-2]\\d|3[0-1])：这是一个分组，用于匹配日期。它可以匹配01到09日，10到29日，以及30到31日。\n",
    "\n",
    "\\d{3}：表示匹配身份证号中的顺序码，通常是3位数字。\n",
    "\n",
    "(\\d|X|x)：这是最后一部分，用于匹配身份证号的校验码。它可以是数字（0-9）或字母X（可以是大写或小写）。\n",
    "\n",
    "$：表示匹配字符串的结尾，确保正则表达式匹配到字符串的末尾。\n",
    "\n",
    "print(validate_id_card(id_card))"
   ]
  },
  {
   "cell_type": "code",
   "execution_count": 45,
   "id": "5cabb157-6c66-427d-ac10-383666781a87",
   "metadata": {},
   "outputs": [
    {
     "name": "stdout",
     "output_type": "stream",
     "text": [
      "True\n"
     ]
    }
   ],
   "source": [
    "import re\n",
    "def validate_id_card(id_card):\n",
    "    number=r\"^[1-9]\\d{5}(19|20)\\d{2}(0[1-9]|1[0-2])(0[1-9]|[1-2]\\d|3[0-1])\\d{3}(\\d|X|x)$\"\n",
    "    if re.match(number,id_card):\n",
    "        return True\n",
    "    else:\n",
    "        return False\n",
    "id_card=\"520114200501030012\"\n",
    "print(validate_id_card(id_card))"
   ]
  },
  {
   "cell_type": "code",
   "execution_count": null,
   "id": "f2735590-6857-4ee4-8ebe-7d12eac5cc91",
   "metadata": {},
   "outputs": [],
   "source": []
  }
 ],
 "metadata": {
  "kernelspec": {
   "display_name": "Python 3 (ipykernel)",
   "language": "python",
   "name": "python3"
  },
  "language_info": {
   "codemirror_mode": {
    "name": "ipython",
    "version": 3
   },
   "file_extension": ".py",
   "mimetype": "text/x-python",
   "name": "python",
   "nbconvert_exporter": "python",
   "pygments_lexer": "ipython3",
   "version": "3.11.7"
  }
 },
 "nbformat": 4,
 "nbformat_minor": 5
}
