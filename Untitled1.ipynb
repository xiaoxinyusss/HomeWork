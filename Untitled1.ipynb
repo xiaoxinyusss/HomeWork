{
 "cells": [
  {
   "cell_type": "code",
   "execution_count": 4,
   "id": "496b1fd4-a308-44fe-8134-4ae7e37f6f23",
   "metadata": {},
   "outputs": [
    {
     "name": "stdout",
     "output_type": "stream",
     "text": [
      "a是质数\n"
     ]
    }
   ],
   "source": [
    "#1.编写 Python程序,判断输入a是否为质数\n",
    "def zhishu(a):\n",
    "    count=0\n",
    "    for i in range(2,a-1):\n",
    "        if a%i==0:\n",
    "            count+=1\n",
    "    if count!=0:\n",
    "        print(\"a不是质数\")\n",
    "    else :\n",
    "        print(\"a是质数\")\n",
    "a=5\n",
    "zhishu(a)\n",
    "        "
   ]
  },
  {
   "cell_type": "code",
   "execution_count": 13,
   "id": "7ca60646-a2c0-4314-89ce-72e872ad3038",
   "metadata": {},
   "outputs": [
    {
     "name": "stdout",
     "output_type": "stream",
     "text": [
      "0\n",
      "2\n",
      "3\n",
      "4\n",
      "7\n",
      "8\n"
     ]
    }
   ],
   "source": [
    "#2.用Python实现插入排序该算法，不允许直接调用插入排序函数，需要手动实现其逻辑过程。\n",
    "def InsertSort(L):\n",
    "    for i in range(1,len(L)):\n",
    "        key =L[i]\n",
    "        j=i-1\n",
    "        while j>=0 and key <L[j]:\n",
    "            L[j+1]=L[j]\n",
    "            j=j-1\n",
    "        L[j+1]=key\n",
    "    for i in range (len(L)):\n",
    "        print(L[i])\n",
    "L=[7,3,8,4,2,0]\n",
    "InsertSort(L)"
   ]
  },
  {
   "cell_type": "code",
   "execution_count": 18,
   "id": "a017dcdd-488a-4363-99f7-d579edca8498",
   "metadata": {},
   "outputs": [
    {
     "name": "stdout",
     "output_type": "stream",
     "text": [
      "2\n",
      "3\n",
      "4\n",
      "5\n",
      "7\n"
     ]
    }
   ],
   "source": [
    "#3.用Python实现选择排序该算法，不允许直接调用插入排序函数，需要手动实现其逻辑过程。\n",
    "def SelectSort(L):\n",
    "    for i in range(len(L)-1):\n",
    "        min_n=i\n",
    "        for j in range(i+1,len(L)):\n",
    "            if L[j]<L[min_n]:\n",
    "               min_n=j\n",
    "        L[i],L[min_n]=L[min_n],L[i]\n",
    "    for i in range(1,len(L)):\n",
    "        print(L[i])\n",
    "\n",
    "L = [7,3,4,5,2,1]\n",
    "SelectSort(L)"
   ]
  },
  {
   "cell_type": "code",
   "execution_count": 22,
   "id": "32fa5712-e2b2-4754-921f-5786ffc5c717",
   "metadata": {},
   "outputs": [
    {
     "name": "stdout",
     "output_type": "stream",
     "text": [
      "[1, 2, 3, 5, 6, 7, 9]\n"
     ]
    }
   ],
   "source": [
    "#4.用Python实现快速排序该算法，不允许直接调用插入排序函数，需要手动实现其逻辑过程。\n",
    "def QuickSort(L):\n",
    "    if len(L) <= 1:\n",
    "        return L\n",
    "    pivot=L[0]\n",
    "    left=[]\n",
    "    right=[]\n",
    "    for i in range(1,len(L)):\n",
    "        if L[i]<pivot:\n",
    "            left.append(L[i])\n",
    "        else :\n",
    "            right.append(L[i])\n",
    "    return QuickSort(left) + [pivot] + QuickSort(right)\n",
    "L=[3,6,7,2,1,5,9]\n",
    "print(QuickSort(L))"
   ]
  },
  {
   "cell_type": "code",
   "execution_count": 7,
   "id": "f515d0ca-0fbe-4e39-86ed-cf593a6af5b2",
   "metadata": {},
   "outputs": [
    {
     "name": "stdout",
     "output_type": "stream",
     "text": [
      "插入排序  长度 100  耗时: 0.000167秒\n",
      "选择排序  长度 100  耗时: 0.000200秒\n",
      "快速排序  长度 100  耗时: 0.000090秒\n",
      "插入排序  长度 1000  耗时: 0.019747秒\n",
      "选择排序  长度 1000  耗时: 0.020840秒\n",
      "快速排序  长度 1000  耗时: 0.001090秒\n",
      "插入排序  长度 10000  耗时: 2.025132秒\n",
      "选择排序  长度 10000  耗时: 2.219535秒\n",
      "快速排序  长度 10000  耗时: 0.015457秒\n"
     ]
    }
   ],
   "source": [
    "#5.使用 Python 随机生成三组长度递增的随机数列，长度分别为100、1000、10000，对生成的随机数组使用不同的排序算法，例如选择排序和归并排序，至少三种排序方法。对这些数列的数据排序，并分析不同排序算法在不同长度数列下的运行效果，例如运行时间等指标。\n",
    "import random\n",
    "import time\n",
    "def generate_random_numbers(length):\n",
    "    return [random.randint(0, 10000) for _ in range(length)]\n",
    "def InsertSort(L):\n",
    "    for i in range(1, len(L)):\n",
    "        key = L[i]\n",
    "        j = i - 1\n",
    "        while j >= 0 and key < L[j]:\n",
    "            L[j + 1] = L[j]\n",
    "            j -= 1\n",
    "        L[j + 1] = key\n",
    "def SelectSort(L):\n",
    "    for i in range(len(L) - 1):\n",
    "        min_n = i\n",
    "        for j in range(i + 1, len(L)):\n",
    "            if L[j] < L[min_n]:\n",
    "                min_n = j\n",
    "        L[i], L[min_n] = L[min_n], L[i]\n",
    "def QuickSort(L):\n",
    "    if len(L) <= 1:\n",
    "        return\n",
    "    pivot = L[0]\n",
    "    left = []\n",
    "    right = []\n",
    "    for i in range(1, len(L)):\n",
    "        if L[i] < pivot:\n",
    "            left.append(L[i])\n",
    "        else:\n",
    "            right.append(L[i])\n",
    "    QuickSort(left)\n",
    "    QuickSort(right)\n",
    "    L[:] = left + [pivot] + right  # 更新原列表\n",
    "lengths = [100, 1000, 10000]\n",
    "\n",
    "for length in lengths:\n",
    "    arr = generate_random_numbers(length)\n",
    "    start_time = time.perf_counter()\n",
    "    InsertSort(arr)\n",
    "    end_time = time.perf_counter()\n",
    "    print(f'插入排序  长度 {length}  耗时: {end_time - start_time:.6f}秒')\n",
    "\n",
    "    arr = generate_random_numbers(length)  # 重新生成随机数组\n",
    "    start_time = time.perf_counter()\n",
    "    SelectSort(arr)\n",
    "    end_time = time.perf_counter()\n",
    "    print(f'选择排序  长度 {length}  耗时: {end_time - start_time:.6f}秒')\n",
    "\n",
    "    arr = generate_random_numbers(length)  # 重新生成随机数组\n",
    "    start_time = time.perf_counter()\n",
    "    QuickSort(arr)\n",
    "    end_time = time.perf_counter()\n",
    "    print(f'快速排序  长度 {length}  耗时: {end_time - start_time:.6f}秒')\n"
   ]
  },
  {
   "cell_type": "code",
   "execution_count": 4,
   "id": "29f0eeca-cee6-4341-8f5e-b45e85b2f17d",
   "metadata": {},
   "outputs": [
    {
     "name": "stdout",
     "output_type": "stream",
     "text": [
      "2024-10-16 21:34:34.901115\n"
     ]
    }
   ],
   "source": [
    "#6.使用python代码获取当前系统时间\n",
    "from datetime import datetime\n",
    "current_time=datetime.now()\n",
    "print(current_time)"
   ]
  },
  {
   "cell_type": "code",
   "execution_count": 7,
   "id": "ad44b8d6-fef9-42b9-aadf-be01a036d0ef",
   "metadata": {},
   "outputs": [
    {
     "name": "stdout",
     "output_type": "stream",
     "text": [
      "语文平均成绩: 82.6\n",
      "数学平均成绩: 81.0\n",
      "英语平均成绩: 81.8\n"
     ]
    }
   ],
   "source": [
    "#7.homework/data文件夹下的stuGrade.csv文件中包含5位同学的学号、语文成绩、数学成绩和英语成绩，请先用记事本打开该文件，查看文件内容，然后编写Python程序，读取该文件，并计算出各科的平均成绩（保留2位小数）。\n",
    "import csv\n",
    "file_path = r\"C:\\Users\\贾622\\Downloads\\stuGrade (1).csv\"\n",
    "chinese_total = 0\n",
    "math_total = 0\n",
    "english_total = 0\n",
    "student_count = 0\n",
    "\n",
    "# 读取 CSV 文件\n",
    "with open(file_path, mode='r', encoding='utf-8') as file:\n",
    "    reader = csv.DictReader(file)\n",
    "    \n",
    "    for row in reader:\n",
    "        # 将成绩转换为整数后累加\n",
    "        chinese_total += int(row['chinese'])\n",
    "        math_total += int(row['math'])\n",
    "        english_total += int(row['english'])\n",
    "        student_count += 1\n",
    "\n",
    "chinese_avg = round(chinese_total / student_count, 2)\n",
    "math_avg = round(math_total / student_count, 2)\n",
    "english_avg = round(english_total / student_count, 2)\n",
    "print(f\"语文平均成绩: {chinese_avg}\")\n",
    "print(f\"数学平均成绩: {math_avg}\")\n",
    "print(f\"英语平均成绩: {english_avg}\")\n"
   ]
  },
  {
   "cell_type": "markdown",
   "id": "9ca0db7b-c497-4e69-9d51-133606062f30",
   "metadata": {},
   "source": [
    "#8.请在第7题的代码继续编写Python程序，将以下内容写入my.txt文件中，一并上传到github中。\n",
    "\n",
    "第1行：你的学号和姓名\n",
    "\n",
    "第2行：3门课程的平均成绩（任意课程），保留2位小数，以英文逗号间隔\n",
    "\n",
    "第3行：系统当前时间，格式例如2020-01-01 12:00:00\n",
    "\n",
    "第4行：两秒后的系统当前时间（利用sleep()方法）"
   ]
  },
  {
   "cell_type": "code",
   "execution_count": 3,
   "id": "3839e85e-af63-4171-975c-5a6fe1e4a9f5",
   "metadata": {},
   "outputs": [
    {
     "name": "stdout",
     "output_type": "stream",
     "text": [
      "当前工作目录: C:\\Users\\贾622\\Desktop\\jupyter\n",
      "准备写入 C:\\Users\\贾622\\Desktop\\my.txt 文件...\n",
      "数据已成功写入 C:\\Users\\贾622\\Desktop\\my.txt 文件。\n"
     ]
    }
   ],
   "source": [
    "import csv\n",
    "import time\n",
    "from datetime import datetime\n",
    "import os  # 导入 os 模块以获取当前工作目录\n",
    "\n",
    "# 打印当前工作目录\n",
    "print(\"当前工作目录:\", os.getcwd())\n",
    "\n",
    "# CSV 文件路径\n",
    "file_path = r\"C:\\Users\\贾622\\Downloads\\stuGrade (1).csv\"\n",
    "output_file = r\"C:\\Users\\贾622\\Desktop\\my.txt\"  # 确保输出文件路径正确\n",
    "\n",
    "# 初始化变量\n",
    "chinese_total = math_total = english_total = student_count = 0\n",
    "\n",
    "# 读取 CSV 文件\n",
    "try:\n",
    "    with open(file_path, mode='r', encoding='utf-8') as file:\n",
    "        reader = csv.DictReader(file)\n",
    "        for row in reader:\n",
    "            chinese_total += int(row['chinese'].strip())\n",
    "            math_total += int(row['math'].strip())\n",
    "            english_total += int(row['english'].strip())\n",
    "            student_count += 1\n",
    "\n",
    "    if student_count > 0: \n",
    "        chinese_avg = round(chinese_total / student_count, 2)\n",
    "        math_avg = round(math_total / student_count, 2)\n",
    "        english_avg = round(english_total / student_count, 2)\n",
    "    else: \n",
    "        raise ValueError(\"没有学生数据，无法计算平均分。\") \n",
    "\n",
    "    current_time = datetime.now().strftime('%Y-%m-%d %H:%M:%S')\n",
    "    time.sleep(2)  # 暂停 2 秒\n",
    "    future_time = datetime.now().strftime('%Y-%m-%d %H:%M:%S')\n",
    "\n",
    "    # 写入 my.txt 文件\n",
    "    print(f\"准备写入 {output_file} 文件...\")  \n",
    "    with open(output_file, mode='w', encoding='utf-8') as file:\n",
    "        file.write(\"10235501437, 贾馨雨\\n\")  \n",
    "        file.write(f\"{chinese_avg}, {math_avg}, {english_avg}\\n\") \n",
    "        file.write(f\"{current_time}\\n\")  \n",
    "        file.write(f\"{future_time}\\n\")  \n",
    "\n",
    "    print(f\"数据已成功写入 {output_file} 文件。\")\n",
    "except FileNotFoundError:\n",
    "    print(f\"文件未找到: {file_path}\")\n",
    "except ValueError as e:\n",
    "    print(e)\n",
    "except Exception as e:\n",
    "    print(f\"发生错误: {e}\")\n"
   ]
  },
  {
   "cell_type": "code",
   "execution_count": null,
   "id": "fab3b9db-f076-47fd-8014-eb70f7119c6d",
   "metadata": {},
   "outputs": [],
   "source": []
  }
 ],
 "metadata": {
  "kernelspec": {
   "display_name": "Python 3 (ipykernel)",
   "language": "python",
   "name": "python3"
  },
  "language_info": {
   "codemirror_mode": {
    "name": "ipython",
    "version": 3
   },
   "file_extension": ".py",
   "mimetype": "text/x-python",
   "name": "python",
   "nbconvert_exporter": "python",
   "pygments_lexer": "ipython3",
   "version": "3.11.7"
  }
 },
 "nbformat": 4,
 "nbformat_minor": 5
}
