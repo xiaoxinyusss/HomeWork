{
 "cells": [
  {
   "cell_type": "markdown",
   "id": "b0feda25-d653-4f40-b8dc-03d75dd4e5ca",
   "metadata": {},
   "source": []
  },
  {
   "cell_type": "code",
   "execution_count": 43,
   "id": "7bb256a1-bbb5-4ae9-ba62-b359e9f3bbf6",
   "metadata": {},
   "outputs": [
    {
     "name": "stdout",
     "output_type": "stream",
     "text": [
      "★★★★★★★★★★★\n",
      "★数据科学与工程导论★\n",
      "★★★★★★★★★★★\n"
     ]
    }
   ],
   "source": [
    "#编写Python程序，打印\"数据科学与工程导论\"，并使用 print(chr(0x2605)) 语句将这句话包围起来。\n",
    "star=chr(0x2605)\n",
    "print(star*11)\n",
    "print(star+\"数据科学与工程导论\"+star)\n",
    "print(star*11)     "
   ]
  },
  {
   "cell_type": "code",
   "execution_count": 44,
   "id": "2b425a58-f0af-4a20-b8c5-bc4a5e0a148b",
   "metadata": {},
   "outputs": [
    {
     "name": "stdout",
     "output_type": "stream",
     "text": [
      "1 2 3\n"
     ]
    }
   ],
   "source": [
    "#写一个 Python 程序，输入 x, y, z 这三个数，将这三个数从小到大使用 print 函数打印出来。\n",
    "x=1\n",
    "y=2\n",
    "z=3\n",
    "if x-y>=0:\n",
    "  a,b=y,x\n",
    "else     :\n",
    "  a,b=x,y\n",
    "if z-b>=0:\n",
    "  print(a,b,z)\n",
    "elif z-a>=0:\n",
    "  print(a,z,b)\n",
    "else     :\n",
    "  print(z,a,b)\n",
    "  "
   ]
  },
  {
   "cell_type": "code",
   "execution_count": 45,
   "id": "13a18735-317c-45ef-997f-cbafea231d26",
   "metadata": {},
   "outputs": [
    {
     "name": "stdout",
     "output_type": "stream",
     "text": [
      "4 3 2 1\n"
     ]
    }
   ],
   "source": [
    "#写一个 Python 程序，有 w, x, y, z 四个数，将这四个数从大到小使用 print 函数打印出来。\n",
    "w,x,y,z=1,2,3,4\n",
    "if x-y>=0:\n",
    "  a,b=y,x\n",
    "else     : \n",
    "  a,b=x,y\n",
    "if z-b>=0:\n",
    "    c=z\n",
    "elif z-a>=0:\n",
    "    c=b\n",
    "    b=z\n",
    "if w>=c:\n",
    "    d=w\n",
    "elif w>=b:\n",
    "    d=c\n",
    "    c=w\n",
    "elif w>=a:\n",
    "    d=c\n",
    "    c=b\n",
    "    b=w\n",
    "else     :\n",
    "    d=c\n",
    "    c=b\n",
    "    b=a\n",
    "    a=w\n",
    "print(d,c,b,a)\n",
    "    \n",
    "  "
   ]
  },
  {
   "cell_type": "code",
   "execution_count": 46,
   "id": "4d97720b-f455-4824-94b1-288c7f64bec6",
   "metadata": {},
   "outputs": [
    {
     "name": "stdout",
     "output_type": "stream",
     "text": [
      "1\n",
      "3\n",
      "5\n",
      "7\n",
      "9\n",
      "11\n",
      "13\n",
      "15\n",
      "17\n",
      "19\n",
      "21\n",
      "23\n",
      "25\n",
      "27\n",
      "29\n",
      "31\n",
      "33\n",
      "35\n",
      "37\n",
      "39\n",
      "41\n",
      "43\n",
      "45\n",
      "47\n",
      "49\n",
      "51\n",
      "53\n",
      "55\n",
      "57\n",
      "59\n",
      "61\n",
      "63\n",
      "65\n",
      "67\n",
      "69\n",
      "71\n",
      "73\n",
      "75\n",
      "77\n",
      "79\n",
      "81\n",
      "83\n",
      "85\n",
      "87\n",
      "89\n",
      "91\n",
      "93\n",
      "95\n",
      "97\n",
      "99\n"
     ]
    }
   ],
   "source": [
    "#写一个 Python 程序，输出 1-100 中的所有奇数。\n",
    "for i in range(1,101):\n",
    "    if(i%2!=0):\n",
    "      print(i)"
   ]
  },
  {
   "cell_type": "code",
   "execution_count": 47,
   "id": "07fa1691-91ca-4b53-8bc1-b8dad968ff42",
   "metadata": {},
   "outputs": [
    {
     "name": "stdout",
     "output_type": "stream",
     "text": [
      "5050\n"
     ]
    }
   ],
   "source": [
    "#写一个 Python 程序，用 for 循环，求解 1 到 100 的和。\n",
    "sum=0\n",
    "for i in range(1,101):\n",
    "     sum+=i\n",
    "print(sum)"
   ]
  },
  {
   "cell_type": "code",
   "execution_count": 48,
   "id": "81655569-ddd4-4fb1-815f-9011f313421f",
   "metadata": {},
   "outputs": [
    {
     "name": "stdout",
     "output_type": "stream",
     "text": [
      "[5, 4, 3, 2, 1]\n"
     ]
    }
   ],
   "source": [
    "#写一个 Python 程序，分别用 for 和 while 循环实现对一个给定序列的倒排序输出。例如，给定 L=[1,2,3,4,5]，输出为 [5,4,3,2,1]。\n",
    "L=[1,2,3,4,5]\n",
    "reversed_L=list(reversed(L))\n",
    "print(reversed_L)"
   ]
  },
  {
   "cell_type": "code",
   "execution_count": 49,
   "id": "04fd41d4-1be7-4e07-a7da-57cbf89cb182",
   "metadata": {},
   "outputs": [
    {
     "name": "stdout",
     "output_type": "stream",
     "text": [
      "True\n"
     ]
    }
   ],
   "source": [
    "#写一个 Python 程序，判断一个输入的字符串 S 是否包含由两个或两个以上连续出现的相同字符组成的字符串。例如，abccccda 中就包含 cccc 这个由 4 个连续字符组成的字符串。\n",
    "\n",
    "def repeated(s):\n",
    "    count = 1\n",
    "    has_repeated = False  # 标志，是否有重复  \n",
    "\n",
    "    for i in range(len(s) - 1):\n",
    "        if s[i] == s[i + 1]:\n",
    "            count += 1\n",
    "            has_repeated = True  # 设置标志，如果找到重复\n",
    "        else:\n",
    "            count = 1  # 如果字符不相同，则重置计数\n",
    "\n",
    "    if has_repeated:\n",
    "        print(True)\n",
    "    else:\n",
    "        print(False)\n",
    "\n",
    "s = \"abccccde\"\n",
    "repeated(s)\n"
   ]
  },
  {
   "cell_type": "code",
   "execution_count": 50,
   "id": "fdd3eb99",
   "metadata": {},
   "outputs": [
    {
     "name": "stdout",
     "output_type": "stream",
     "text": [
      "DATASCIENCEANDENGINEERING\n"
     ]
    }
   ],
   "source": [
    "#写一个 Python 程序，输入一个字符串 S，去掉其中所有的空格后输出。例如，“DataScience and Engineering”，去掉空格后为“DataScienceandEngineering”\n",
    "def delete_spaces(s):\n",
    "    new_string = \"\"  # 创建一个新的字符串\n",
    "    for i in range(len(s)):\n",
    "        if s[i] != \" \":  # 判断当前字符是否为空格\n",
    "            new_string += s[i]  # 如果不是空格，添加到新字符串中\n",
    "    print(new_string)  # 输出结果\n",
    "\n",
    "s = \"DATA SCIENCE AND ENGINEERING\"\n",
    "delete_spaces(s)\n"
   ]
  },
  {
   "cell_type": "code",
   "execution_count": 51,
   "id": "ca6d40f1",
   "metadata": {},
   "outputs": [
    {
     "name": "stdout",
     "output_type": "stream",
     "text": [
      "3.0\n"
     ]
    }
   ],
   "source": [
    "#请设计一个求 3 次方根的算法（不允许直接调用求方根的函数），并给出对应的 Python 程序。 采用牛顿迭代法求解\n",
    "def sancifang(x):\n",
    "    if x == 0:\n",
    "        return 0  # 特殊情况，0 的三次方根为 0\n",
    "    \n",
    "    result = x / 3.0  # 初始猜测\n",
    "    max_iterations = 1000  # 最大迭代次数\n",
    "\n",
    "    for _ in range(max_iterations):\n",
    "        result = (2 * result / 3) + (x / (3 * result**2))  # 更新 result\n",
    "\n",
    "    return result  \n",
    "\n",
    "# 测试\n",
    "x = 27\n",
    "print(sancifang(x)) \n"
   ]
  },
  {
   "cell_type": "code",
   "execution_count": 52,
   "id": "77b1b408",
   "metadata": {},
   "outputs": [
    {
     "name": "stdout",
     "output_type": "stream",
     "text": [
      "24\n"
     ]
    }
   ],
   "source": [
    "#写一个 Python 程序，给定一个常数 n（n>0），求 n 的阶乘，即 n!=1×2×...×(n-1)×n。例如，4!=24，5!=120。\n",
    "n=4 \n",
    "def jiecheng(n):\n",
    "    result=1  \n",
    "    i=1\n",
    "    for i in range(1,n+1):\n",
    "        result=result*i\n",
    "    return result\n",
    "print(jiecheng(n))  \n",
    "    "
   ]
  },
  {
   "cell_type": "code",
   "execution_count": null,
   "id": "6c19ca9b-97f4-439c-a042-bebf7bdd6a5f",
   "metadata": {},
   "outputs": [],
   "source": []
  }
 ],
 "metadata": {
  "kernelspec": {
   "display_name": "Python 3 (ipykernel)",
   "language": "python",
   "name": "python3"
  },
  "language_info": {
   "codemirror_mode": {
    "name": "ipython",
    "version": 3
   },
   "file_extension": ".py",
   "mimetype": "text/x-python",
   "name": "python",
   "nbconvert_exporter": "python",
   "pygments_lexer": "ipython3",
   "version": "3.7.8"
  }
 },
 "nbformat": 4,
 "nbformat_minor": 5
}
